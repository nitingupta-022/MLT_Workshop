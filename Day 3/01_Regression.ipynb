{
 "cells": [
  {
   "cell_type": "markdown",
   "metadata": {
    "id": "xty5_wvrcn-2"
   },
   "source": [
    "# Linear Regression"
   ]
  },
  {
   "cell_type": "markdown",
   "metadata": {
    "id": "1DGP3gAciueC"
   },
   "source": [
    "- In `regression` we fitting a curve, when we try to fit a line than it is called a `linear regression`"
   ]
  },
  {
   "cell_type": "markdown",
   "metadata": {
    "id": "Sw7nBr-qxyia"
   },
   "source": [
    "- In `polynomial regression` we trying to fit a curve instead of fitting a line."
   ]
  },
  {
   "cell_type": "code",
   "execution_count": 56,
   "metadata": {
    "executionInfo": {
     "elapsed": 14,
     "status": "ok",
     "timestamp": 1759551402477,
     "user": {
      "displayName": "NITIN GUPTA",
      "userId": "05836721629322869438"
     },
     "user_tz": -330
    },
    "id": "lLFC1OpOjkmD"
   },
   "outputs": [],
   "source": [
    "# Equation of a line :\n",
    "# Y = mx + c   (here m is a slope and c is an y intercept)\n",
    "\n",
    "\n",
    "# We use this notation instead of y = mx + c\n",
    "# Y = wx + b   (here w denotes weight and b here is called as bias)"
   ]
  },
  {
   "cell_type": "markdown",
   "metadata": {
    "id": "b9dB_ALacoBd"
   },
   "source": [
    "## Import Settings"
   ]
  },
  {
   "cell_type": "code",
   "execution_count": 57,
   "metadata": {
    "executionInfo": {
     "elapsed": 13,
     "status": "ok",
     "timestamp": 1759551402493,
     "user": {
      "displayName": "NITIN GUPTA",
      "userId": "05836721629322869438"
     },
     "user_tz": -330
    },
    "id": "tsSkY7xTcw59"
   },
   "outputs": [],
   "source": [
    "import numpy as np\n",
    "import matplotlib.pyplot as plt"
   ]
  },
  {
   "cell_type": "code",
   "execution_count": 58,
   "metadata": {
    "executionInfo": {
     "elapsed": 53,
     "status": "ok",
     "timestamp": 1759551402553,
     "user": {
      "displayName": "NITIN GUPTA",
      "userId": "05836721629322869438"
     },
     "user_tz": -330
    },
    "id": "pM_3E67_va5O"
   },
   "outputs": [],
   "source": [
    "rng = np.random.default_rng(seed = 42)"
   ]
  },
  {
   "cell_type": "markdown",
   "metadata": {
    "id": "mRfmkQpWcsuF"
   },
   "source": [
    "## Dataset"
   ]
  },
  {
   "cell_type": "markdown",
   "metadata": {
    "id": "k-gQ98ekcs1t"
   },
   "source": [
    "We will generate a dataset where the relationship b/w the input and output is sinusoidal corrupted by some noise :     \n",
    "\n",
    "$$\n",
    "\\begin{equation*}\n",
    "y=\\sin( 2\\pi x) + ϵ\n",
    "\\end{equation*}\n",
    "$$\n",
    "\n",
    "Simple linear equation regression will just end up fitting a line. We will add powers of $x$ as new features to turn this into a \"polynomial regression\" problem. The data - matrix looks as follows for a power $p$.\n",
    "\n",
    "$$\n",
    "\\begin{equation*}\n",
    "\\mathbf{X} = \\begin{bmatrix}\n",
    "1 & \\cdots & 1\\\\\n",
    "x_{1} & \\cdots & X_{n}^{2}\\\\\n",
    "\\vdots & & \\vdots \\\\\n",
    "x_{1}^{p} & \\cdots & x_{n}^{p}\n",
    "\\end{bmatrix}\n",
    "\\end{equation*}\n",
    "$$\n",
    "\n",
    "The shape of the data-matrix is $(p + 1) \\times n$. The value of $d = p + 1$. We can now continue viewing this as a linear regression problem, with respect to this data - matrix $\\mathbf{X}$ and label vector $\\mathbf{y}$."
   ]
  },
  {
   "cell_type": "code",
   "execution_count": 59,
   "metadata": {
    "colab": {
     "base_uri": "https://localhost:8080/"
    },
    "executionInfo": {
     "elapsed": 25,
     "status": "ok",
     "timestamp": 1759551402556,
     "user": {
      "displayName": "NITIN GUPTA",
      "userId": "05836721629322869438"
     },
     "user_tz": -330
    },
    "id": "eHC4C0HfHCMw",
    "outputId": "26db0e8a-eb51-456a-844b-4947be389c7c"
   },
   "outputs": [
    {
     "name": "stdout",
     "output_type": "stream",
     "text": [
      "[-1.  -0.5  0.   0.5  1. ]\n",
      "[1. 1. 1. 1. 1.]\n",
      "[-1.  -0.5  0.   0.5  1. ]\n",
      "[1.   0.25 0.   0.25 1.  ]\n"
     ]
    }
   ],
   "source": [
    "# For understanding\n",
    "x = np.linspace(-1,1,5)\n",
    "p = 2\n",
    "print(x)\n",
    "\n",
    "for j in range(3) :\n",
    "  print(x **j)"
   ]
  },
  {
   "cell_type": "code",
   "execution_count": 60,
   "metadata": {
    "colab": {
     "base_uri": "https://localhost:8080/"
    },
    "executionInfo": {
     "elapsed": 22,
     "status": "ok",
     "timestamp": 1759551402582,
     "user": {
      "displayName": "NITIN GUPTA",
      "userId": "05836721629322869438"
     },
     "user_tz": -330
    },
    "id": "Ce8QJ_TMviAV",
    "outputId": "433b477e-a5bb-4e57-99d2-dbf2e70da077"
   },
   "outputs": [
    {
     "data": {
      "text/plain": [
       "((9, 20), (20,))"
      ]
     },
     "execution_count": 60,
     "metadata": {},
     "output_type": "execute_result"
    }
   ],
   "source": [
    "n = 20\n",
    "x = np.linspace(-1,1,n)\n",
    "p = 8  # degree\n",
    "X = np.array([x**j for j in range(p + 1)])\n",
    "y_true = np.sin(2 * np.pi * x)\n",
    "y = y_true + rng.normal(0,0.2, n)\n",
    "\n",
    "X.shape, y.shape"
   ]
  },
  {
   "cell_type": "markdown",
   "metadata": {
    "id": "QpPSNq3xcs8l"
   },
   "source": [
    "## Visualize  "
   ]
  },
  {
   "cell_type": "markdown",
   "metadata": {
    "id": "4WVLHMXpctC1"
   },
   "source": [
    "Let us now visualize the dataset along with the underlying true relationship without the noise. We expect our regression model to capture that relationship while ignoring the noise"
   ]
  },
  {
   "cell_type": "code",
   "execution_count": 61,
   "metadata": {
    "colab": {
     "base_uri": "https://localhost:8080/",
     "height": 447
    },
    "executionInfo": {
     "elapsed": 243,
     "status": "ok",
     "timestamp": 1759551402828,
     "user": {
      "displayName": "NITIN GUPTA",
      "userId": "05836721629322869438"
     },
     "user_tz": -330
    },
    "id": "_CZT1GnjLpe2",
    "outputId": "f5ffe5ba-1482-4d4b-f5b3-4d8223ea9b35"
   },
   "outputs": [
    {
     "data": {
      "text/plain": [
       "<matplotlib.collections.PathCollection at 0x7d18c59cd7c0>"
      ]
     },
     "execution_count": 61,
     "metadata": {},
     "output_type": "execute_result"
    },
    {
     "data": {
      "image/png": "[encoded data removed]",
      "text/plain": [
       "<Figure size 640x480 with 1 Axes>"
      ]
     },
     "metadata": {},
     "output_type": "display_data"
    }
   ],
   "source": [
    "plt.scatter(x, y)"
   ]
  },
  {
   "cell_type": "markdown",
   "metadata": {
    "id": "cdeHlu81LzbY"
   },
   "source": [
    "**I want to fit a curve in above scatter plot**"
   ]
  },
  {
   "cell_type": "code",
   "execution_count": 62,
   "metadata": {
    "colab": {
     "base_uri": "https://localhost:8080/",
     "height": 447
    },
    "executionInfo": {
     "elapsed": 303,
     "status": "ok",
     "timestamp": 1759551403136,
     "user": {
      "displayName": "NITIN GUPTA",
      "userId": "05836721629322869438"
     },
     "user_tz": -330
    },
    "id": "UCWnpyM1z1t7",
    "outputId": "5681eaec-9361-4e4d-96de-6a0d9a01169f"
   },
   "outputs": [
    {
     "data": {
      "text/plain": [
       "<matplotlib.legend.Legend at 0x7d18c5c7f260>"
      ]
     },
     "execution_count": 62,
     "metadata": {},
     "output_type": "execute_result"
    },
    {
     "data": {
      "image/png": "[encoded data removed]",
      "text/plain": [
       "<Figure size 640x480 with 1 Axes>"
      ]
     },
     "metadata": {},
     "output_type": "display_data"
    }
   ],
   "source": [
    "plt.scatter(x,y, alpha = 0.8)\n",
    "x_vis = np.linspace(-1, 1, 100)\n",
    "y_true_vis = np.sin(2 * np.pi * x_vis)\n",
    "plt.plot(\n",
    "    x_vis, y_true_vis,\n",
    "    linestyle = '--',\n",
    "    color = 'black',\n",
    "    label = True\n",
    ")\n",
    "plt.legend()"
   ]
  },
  {
   "cell_type": "markdown",
   "metadata": {
    "id": "9zEhoYWBctI1"
   },
   "source": [
    "## Model"
   ]
  },
  {
   "cell_type": "markdown",
   "metadata": {
    "id": "DWUPnhnkcoD1"
   },
   "source": [
    "The model is given by :     \n",
    "\n",
    "$$\n",
    "\\begin{equation*}\n",
    "f(\\mathbf{x}) = \\mathbf{w}^{T}\\mathbf{x}\n",
    "\\end{equation*}\n",
    "$$"
   ]
  },
  {
   "cell_type": "code",
   "execution_count": 63,
   "metadata": {
    "executionInfo": {
     "elapsed": 5,
     "status": "ok",
     "timestamp": 1759551403160,
     "user": {
      "displayName": "NITIN GUPTA",
      "userId": "05836721629322869438"
     },
     "user_tz": -330
    },
    "id": "83lMaUfO_Vtx"
   },
   "outputs": [],
   "source": [
    "def predict_point(w, x) :\n",
    "  return w @ x   # here dot product b/w two vectors"
   ]
  },
  {
   "cell_type": "markdown",
   "metadata": {
    "id": "kqYqoCKNcoGG"
   },
   "source": [
    "If we need to generate predictions for an entire dataset, the expression for the vector of predictions is :       \n",
    "\n",
    "$$\n",
    "\\begin{equation*}\n",
    "\\widehat{\\mathbf{y}} =\\mathbf{X}^{T}\\mathbf{W}\n",
    "\\end{equation*}\n",
    "$$"
   ]
  },
  {
   "cell_type": "code",
   "execution_count": 64,
   "metadata": {
    "executionInfo": {
     "elapsed": 2,
     "status": "ok",
     "timestamp": 1759551403172,
     "user": {
      "displayName": "NITIN GUPTA",
      "userId": "05836721629322869438"
     },
     "user_tz": -330
    },
    "id": "co_fl0tT_0OY"
   },
   "outputs": [],
   "source": [
    "def predict_dataset(w, X) :\n",
    "  return X.T @ w  # here dot product b/w matrix and a vector"
   ]
  },
  {
   "cell_type": "markdown",
   "metadata": {
    "id": "KL-TCksocoIe"
   },
   "source": [
    "## Loss Function"
   ]
  },
  {
   "cell_type": "markdown",
   "metadata": {
    "id": "hRQxY2GfcoK9"
   },
   "source": [
    "Let us implement the following version of SSE :     \n",
    "\n",
    "$$\n",
    "\\begin{equation*}\n",
    "L(\\mathbf{X} ,\\mathbf{y} ,\\mathbf{w}) =\\frac{1}{2}\\sum\\limits _{i=1}^{n}\\left(\\mathbf{w}^{T}\\mathbf{x}_{i} -y_{i}\\right)^{2} =\\frac{1}{2} ||\\mathbf{X}^{T}\\mathbf{w} -\\mathbf{y} ||^{2}\n",
    "\\end{equation*}\n",
    "$$"
   ]
  },
  {
   "cell_type": "code",
   "execution_count": 65,
   "metadata": {
    "executionInfo": {
     "elapsed": 2,
     "status": "ok",
     "timestamp": 1759551403179,
     "user": {
      "displayName": "NITIN GUPTA",
      "userId": "05836721629322869438"
     },
     "user_tz": -330
    },
    "id": "JwWGy3_2BXh3"
   },
   "outputs": [],
   "source": [
    "def loss(X, y, w) :\n",
    "  d, n = X.shape\n",
    "  error = X.T @ w - y\n",
    "  return 0.5 * (error ** 2).sum()"
   ]
  },
  {
   "cell_type": "markdown",
   "metadata": {
    "id": "l1nymBjJcoNV"
   },
   "source": [
    "## Normal Equations"
   ]
  },
  {
   "cell_type": "markdown",
   "metadata": {
    "id": "GFaSMnvfcoPl"
   },
   "source": [
    "We can now solve for the optimal weight vector by minimizing the loss function. We have a closed form solution :     \n",
    "\n",
    "$$\n",
    "\\begin{equation*}\n",
    "\\mathbf{w}^{*} = \\left(\\mathbf{X}^{T}\\right)^{\\dagger }\\mathbf{y}\n",
    "\\end{equation*}\n",
    "$$"
   ]
  },
  {
   "cell_type": "code",
   "execution_count": 66,
   "metadata": {
    "colab": {
     "base_uri": "https://localhost:8080/"
    },
    "executionInfo": {
     "elapsed": 10,
     "status": "ok",
     "timestamp": 1759551403194,
     "user": {
      "displayName": "NITIN GUPTA",
      "userId": "05836721629322869438"
     },
     "user_tz": -330
    },
    "id": "nYnIv3AcDBoU",
    "outputId": "4ae8d3bf-d97c-44eb-c436-3d08fb8e9e1e"
   },
   "outputs": [
    {
     "name": "stdout",
     "output_type": "stream",
     "text": [
      "[  0.06185161   6.56205128  -0.93464463 -37.58762871   2.1702014\n",
      "  55.1185918   -1.55573793 -24.10820647   0.27400338]\n",
      "(9,)\n"
     ]
    }
   ],
   "source": [
    "w = np.linalg.pinv(X.T) @ y\n",
    "print(w)\n",
    "print(w.shape)"
   ]
  },
  {
   "cell_type": "markdown",
   "metadata": {
    "id": "YRCle7nkcoU2"
   },
   "source": [
    "## Visualize"
   ]
  },
  {
   "cell_type": "code",
   "execution_count": 67,
   "metadata": {
    "executionInfo": {
     "elapsed": 2,
     "status": "ok",
     "timestamp": 1759551403199,
     "user": {
      "displayName": "NITIN GUPTA",
      "userId": "05836721629322869438"
     },
     "user_tz": -330
    },
    "id": "q6UGPJC2G0Jw"
   },
   "outputs": [],
   "source": [
    "y_pred_vis = np.array([w[i] * (x_vis ** i)\n",
    "              for i in range(w.shape[0])])\n",
    "\n",
    "y_pred_vis = y_pred_vis.sum(axis = 0)"
   ]
  },
  {
   "cell_type": "code",
   "execution_count": 79,
   "metadata": {
    "colab": {
     "base_uri": "https://localhost:8080/",
     "height": 447
    },
    "executionInfo": {
     "elapsed": 654,
     "status": "ok",
     "timestamp": 1759552122796,
     "user": {
      "displayName": "NITIN GUPTA",
      "userId": "05836721629322869438"
     },
     "user_tz": -330
    },
    "id": "GhTbLNYMDJUE",
    "outputId": "ff55aec0-5c6e-4a83-ae39-df78881b4124"
   },
   "outputs": [
    {
     "data": {
      "text/plain": [
       "<matplotlib.legend.Legend at 0x7d18c5454980>"
      ]
     },
     "execution_count": 79,
     "metadata": {},
     "output_type": "execute_result"
    },
    {
     "data": {
      "image/png": "[encoded data removed]",
      "text/plain": [
       "<Figure size 640x480 with 1 Axes>"
      ]
     },
     "metadata": {},
     "output_type": "display_data"
    }
   ],
   "source": [
    "y_pred_vis = np.array([w[i] * (x_vis ** i)\n",
    "              for i in range(w.shape[0])])\n",
    "\n",
    "y_pred_vis = y_pred_vis.sum(axis = 0)\n",
    "\n",
    "plt.scatter(x, y, alpha = 0.8)    # dataset\n",
    "plt.plot(x_vis, y_pred_vis,\n",
    "         color = 'red',\n",
    "         label = 'predicted')\n",
    "plt.plot(x_vis, y_true_vis,\n",
    "         color = 'black',\n",
    "         linestyle = '--',\n",
    "         label = 'true')\n",
    "\n",
    "plt.legend()"
   ]
  },
  {
   "cell_type": "markdown",
   "metadata": {
    "id": "03t2TWtocoXd"
   },
   "source": [
    "## Gradient Descent"
   ]
  },
  {
   "cell_type": "markdown",
   "metadata": {
    "id": "aBzXiqJrcoaW"
   },
   "source": [
    "We can approach the optimization problem via gradient descent as well :      \n",
    "\n",
    "$$\n",
    "\\begin{equation*}\n",
    "\\mathbf{w}^{( t+1)} =\\mathbf{w}^{( t)} -\\eta \\nabla L\\left(\\mathbf{w}^{( t)} ,\\mathbf{X} ,\\mathbf{y}\\right)\n",
    "\\end{equation*}\n",
    "$$\n",
    "\n",
    "We will start by initialization the weight vector to the zero vector."
   ]
  },
  {
   "cell_type": "markdown",
   "metadata": {
    "id": "jQ6O-apbcoc1"
   },
   "source": [
    "### Learning Rate"
   ]
  },
  {
   "cell_type": "markdown",
   "metadata": {
    "id": "xc-1FBKxcogO"
   },
   "source": [
    "For linear Regression, we have a theorem that states that gradient descent (with w^0 = 0) will converge to the solution $\\left(\\mathbf{X}^{T}\\right)^{\\dagger }\\mathbf{y}$ if the learning rate choses is in the range :       \n",
    "\n",
    "$$\n",
    "\\begin{equation*}\n",
    "0< \\eta < \\frac{2}{\\sigma _{1}^{2}}\n",
    "\\end{equation*}\n",
    "$$\n",
    "\n",
    "where $\\sigma_1$ is the largest singular value of $\\mathbf{X}$. To get the singular values, we can use NumPy's SVD method :      "
   ]
  },
  {
   "cell_type": "code",
   "execution_count": 69,
   "metadata": {
    "colab": {
     "base_uri": "https://localhost:8080/"
    },
    "executionInfo": {
     "elapsed": 18,
     "status": "ok",
     "timestamp": 1759551403696,
     "user": {
      "displayName": "NITIN GUPTA",
      "userId": "05836721629322869438"
     },
     "user_tz": -330
    },
    "id": "YsLOy-X-MIP1",
    "outputId": "f2b40f3b-aec6-4e5f-91cd-e39d4f5a6986"
   },
   "outputs": [
    {
     "data": {
      "text/plain": [
       "np.float64(0.07400384596691363)"
      ]
     },
     "execution_count": 69,
     "metadata": {},
     "output_type": "execute_result"
    }
   ],
   "source": [
    "sigma_1 = np.linalg.svd(X)[1][0]\n",
    "2 / sigma_1 ** 2"
   ]
  },
  {
   "cell_type": "code",
   "execution_count": 80,
   "metadata": {
    "executionInfo": {
     "elapsed": 13,
     "status": "ok",
     "timestamp": 1759552201723,
     "user": {
      "displayName": "NITIN GUPTA",
      "userId": "05836721629322869438"
     },
     "user_tz": -330
    },
    "id": "8AbH2EaQe9Ju"
   },
   "outputs": [],
   "source": [
    "eta = 0.07"
   ]
  },
  {
   "cell_type": "markdown",
   "metadata": {
    "id": "oZe9JFclfGnD"
   },
   "source": [
    "## Convergence"
   ]
  },
  {
   "cell_type": "markdown",
   "metadata": {
    "id": "3YAww9_DfJez"
   },
   "source": [
    "To decide convergence of gradient descent, we are going to keep track of the value of the loss function at every iteration. When the difference is the values of the loss function for two successive iterations falls a certain threshold, we will terminate the learning loop. Bolstered by the theorem on the optimal learning rate for convergence, we are going to set the learning rate to a really low value.\n",
    "\n",
    "10 ^ -15 in this case"
   ]
  },
  {
   "cell_type": "code",
   "execution_count": 105,
   "metadata": {
    "colab": {
     "base_uri": "https://localhost:8080/"
    },
    "executionInfo": {
     "elapsed": 21036,
     "status": "ok",
     "timestamp": 1759553254749,
     "user": {
      "displayName": "NITIN GUPTA",
      "userId": "05836721629322869438"
     },
     "user_tz": -330
    },
    "id": "9ZGtQ-6ngNgO",
    "outputId": "0090fbea-4326-4586-e915-7ec1d61fab9b"
   },
   "outputs": [
    {
     "name": "stdout",
     "output_type": "stream",
     "text": [
      "Convergence after 1083114 iterations\n",
      "Loss at convergence = 0.1745732684330259\n",
      "Optimal weight vector, w = [  0.06184617   6.56205128  -0.93446821 -37.58762871   2.16930902\n",
      "  55.1185918   -1.55430254 -24.10820647   0.27328747]\n"
     ]
    }
   ],
   "source": [
    "d,n = X.shape\n",
    "w = np.zeros(d)\n",
    "loss_hist = [np.inf, 0]\n",
    "iter = 0\n",
    "tol = 1e-15\n",
    "\n",
    "# learning loop\n",
    "while abs(loss_hist[-1] - loss_hist[-2]) > tol :\n",
    "  loss_hist.append(loss(X,y,w))\n",
    "  grad = X @ X.T @ w - X @ y\n",
    "  w -= eta * grad\n",
    "  iter += 1\n",
    "\n",
    "print(f\"Convergence after {iter} iterations\")\n",
    "print(f\"Loss at convergence = {loss_hist[-1]}\")\n",
    "print(f\"Optimal weight vector, w = {w}\")"
   ]
  },
  {
   "cell_type": "markdown",
   "metadata": {
    "id": "l8_jGPqTj8LA"
   },
   "source": [
    "It has taken 1 million iterations for convergence with learning rate and toleance we have chosen! Let us see how close this is to the closed form solution returned by the normal equations."
   ]
  },
  {
   "cell_type": "code",
   "execution_count": 112,
   "metadata": {
    "colab": {
     "base_uri": "https://localhost:8080/"
    },
    "executionInfo": {
     "elapsed": 35,
     "status": "ok",
     "timestamp": 1759553762999,
     "user": {
      "displayName": "NITIN GUPTA",
      "userId": "05836721629322869438"
     },
     "user_tz": -330
    },
    "id": "_QWHjwxlkMGX",
    "outputId": "ee4a3092-98ab-4864-dfc5-3eeec26ea704"
   },
   "outputs": [
    {
     "name": "stdout",
     "output_type": "stream",
     "text": [
      "[  0.06184617   6.56205128  -0.93446821 -37.58762871   2.16930902\n",
      "  55.1185918   -1.55430254 -24.10820647   0.27328747]\n",
      "[  0.06185161   6.56205128  -0.93464463 -37.58762871   2.1702014\n",
      "  55.1185918   -1.55573793 -24.10820647   0.27400338]\n"
     ]
    },
    {
     "data": {
      "text/plain": [
       "np.float64(0.001844009550950987)"
      ]
     },
     "execution_count": 112,
     "metadata": {},
     "output_type": "execute_result"
    }
   ],
   "source": [
    "print(w)  # GD\n",
    "print(np.linalg.pinv(X.T) @ y)\n",
    "np.linalg.norm(w - np.linalg.pinv(X.T) @ y)"
   ]
  },
  {
   "cell_type": "markdown",
   "metadata": {
    "id": "mLMSs3_3lLJv"
   },
   "source": [
    "We seet that the two vectors are remarkably close, both by comparing the vectors element-wise and by looking at the norm of their difference!"
   ]
  }
 ],
 "metadata": {
  "colab": {
   "authorship_tag": "ABX9TyOIFB695x93NnvSKXnKB9Sm",
   "collapsed_sections": [
    "mRfmkQpWcsuF",
    "KL-TCksocoIe"
   ],
   "provenance": []
  },
  "kernelspec": {
   "display_name": "Python 3",
   "name": "python3"
  },
  "language_info": {
   "name": "python"
  }
 },
 "nbformat": 4,
 "nbformat_minor": 0
}
