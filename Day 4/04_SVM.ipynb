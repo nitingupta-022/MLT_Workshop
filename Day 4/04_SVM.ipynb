{
 "cells": [
  {
   "cell_type": "markdown",
   "metadata": {
    "id": "6c8FWNz8HoeW"
   },
   "source": [
    "# Support Vector Machines"
   ]
  },
  {
   "cell_type": "markdown",
   "metadata": {
    "id": "ZKAu5MqOHohO"
   },
   "source": [
    "We will implement both hard-margin SVMs and soft-margin SVMs from scratch on a toy dataset. Apart from NumPy, we should need to take the help of Scipy for solving the quadratic porgramming problem."
   ]
  },
  {
   "cell_type": "code",
   "execution_count": null,
   "metadata": {
    "id": "fe6FfMgLH_OY"
   },
   "outputs": [],
   "source": [
    "import numpy as np\n",
    "import matplotlib.pyplot as plt\n",
    "plt.rcParams['figure.figsize'] = [6,6]"
   ]
  },
  {
   "cell_type": "markdown",
   "metadata": {
    "id": "u3t11hxQHokQ"
   },
   "source": [
    "## Hard-Margin SVM"
   ]
  },
  {
   "cell_type": "code",
   "execution_count": null,
   "metadata": {
    "colab": {
     "base_uri": "https://localhost:8080/"
    },
    "executionInfo": {
     "elapsed": 4,
     "status": "ok",
     "timestamp": 1759588181777,
     "user": {
      "displayName": "NITIN GUPTA",
      "userId": "05836721629322869438"
     },
     "user_tz": -330
    },
    "id": "zDr-GQA8H9_p",
    "outputId": "b80532a8-9937-4dcb-fe10-74838e87a864"
   },
   "outputs": [
    {
     "data": {
      "text/plain": [
       "((2, 20), (20,))"
      ]
     },
     "execution_count": 20,
     "metadata": {},
     "output_type": "execute_result"
    }
   ],
   "source": [
    "#### DATA\n",
    "\n",
    "X = np.array([[1,-3], [1,0], [4,1], [3,7], [0,-2], [-1,-6], [2,5],\n",
    "              [1,2], [0,-1], [-1,-4], [0,7], [1,5], [-4,4], [2,9],\n",
    "              [-2,2], [-2,0], [-3,-2], [-2,-4], [3,10], [-3,-8]]).T\n",
    "\n",
    "y = np.array([1, 1, 1, 1, 1,\n",
    "             1, 1, 1, 1, 1,\n",
    "             -1, -1, -1, -1, -1,\n",
    "             -1, -1, -1, -1, -1])\n",
    "\n",
    "X.shape, y.shape"
   ]
  },
  {
   "cell_type": "markdown",
   "metadata": {
    "id": "2v2jtGcDW1lV"
   },
   "source": [
    "### Visualize the dataset"
   ]
  },
  {
   "cell_type": "markdown",
   "metadata": {
    "id": "R-mYtcTyHomv"
   },
   "source": [
    "Let us know the dataset given to us using a scatter plt. We will colour points which belong to class +1 `green` and those that belong to -1 `red`. Following this, we shall inspect the data visually and determine its linlear separability."
   ]
  },
  {
   "cell_type": "code",
   "execution_count": null,
   "metadata": {
    "colab": {
     "base_uri": "https://localhost:8080/"
    },
    "executionInfo": {
     "elapsed": 3,
     "status": "ok",
     "timestamp": 1759588181781,
     "user": {
      "displayName": "NITIN GUPTA",
      "userId": "05836721629322869438"
     },
     "user_tz": -330
    },
    "id": "4FMfIhP0Q9S-",
    "outputId": "3b93c3b0-6c68-48b9-c468-63aee7305e04"
   },
   "outputs": [
    {
     "data": {
      "text/plain": [
       "array(['green', 'green', 'green', 'green', 'green', 'green', 'green',\n",
       "       'green', 'green', 'green', 'red', 'red', 'red', 'red', 'red',\n",
       "       'red', 'red', 'red', 'red', 'red'], dtype='<U5')"
      ]
     },
     "execution_count": 21,
     "metadata": {},
     "output_type": "execute_result"
    }
   ],
   "source": [
    "y_col = np.where(y == 1, 'green', 'red')\n",
    "y_col"
   ]
  },
  {
   "cell_type": "code",
   "execution_count": null,
   "metadata": {
    "colab": {
     "base_uri": "https://localhost:8080/",
     "height": 539
    },
    "executionInfo": {
     "elapsed": 439,
     "status": "ok",
     "timestamp": 1759588182223,
     "user": {
      "displayName": "NITIN GUPTA",
      "userId": "05836721629322869438"
     },
     "user_tz": -330
    },
    "id": "lc2mhKdEPnP9",
    "outputId": "876bbfda-4fb9-4d52-fe8d-bb54c1bdb632"
   },
   "outputs": [
    {
     "data": {
      "text/plain": [
       "<matplotlib.lines.Line2D at 0x7e4eb237b440>"
      ]
     },
     "execution_count": 22,
     "metadata": {},
     "output_type": "execute_result"
    },
    {
     "data": {
      "image/png": "[encoded data removed]",
      "text/plain": [
       "<Figure size 600x600 with 1 Axes>"
      ]
     },
     "metadata": {},
     "output_type": "display_data"
    }
   ],
   "source": [
    "plt.scatter(X[0, : ], X[1, : ], c = y_col)\n",
    "plt.axis('equal')\n",
    "plt.axhline(color = 'black', linewidth = 0.8)\n",
    "plt.axvline(color = 'black', linewidth = 0.8)"
   ]
  },
  {
   "cell_type": "code",
   "execution_count": null,
   "metadata": {
    "id": "XjZMSYuoTqq-"
   },
   "outputs": [],
   "source": [
    "# Step 1 : Assign w_o = [0, 0]^T\n",
    "# Step 2 : w^T x >= 0 , y_hat = 1, -1 o.w\n",
    "# Step 3 : We check this for all the data points\n",
    "# Step 4 : If there is a mistake, we update the weights. w_{t+1} = w_t + xy\n",
    "# STep 5 : Repeat this process until no mistakes are beign made. We can say that the algorithm has converged.\n"
   ]
  },
  {
   "cell_type": "markdown",
   "metadata": {
    "id": "yFVpwXU3Hopu"
   },
   "source": [
    "### Linear Separability"
   ]
  },
  {
   "cell_type": "markdown",
   "metadata": {
    "id": "IagGu7OAHosW"
   },
   "source": [
    "Is there another way to determine linear separability ? Yes! we can train a perceptron and see if it converges in a finite amount of time. But a cavecat: this method can be used to verify linear separability. It cannot be used to prove linear separability."
   ]
  },
  {
   "cell_type": "code",
   "execution_count": null,
   "metadata": {
    "id": "AatjftzGhVd7"
   },
   "outputs": [],
   "source": [
    "d, n = X.shape"
   ]
  },
  {
   "cell_type": "code",
   "execution_count": null,
   "metadata": {
    "colab": {
     "base_uri": "https://localhost:8080/"
    },
    "executionInfo": {
     "elapsed": 5,
     "status": "ok",
     "timestamp": 1759588182262,
     "user": {
      "displayName": "NITIN GUPTA",
      "userId": "05836721629322869438"
     },
     "user_tz": -330
    },
    "id": "js83ZubQhX_j",
    "outputId": "d10d059b-6d40-4f2b-8de8-f37a1b2806d9"
   },
   "outputs": [
    {
     "name": "stdout",
     "output_type": "stream",
     "text": [
      "Converges in 4 epochs\n"
     ]
    },
    {
     "data": {
      "text/plain": [
       "array([ 0.94174191, -0.3363364 ])"
      ]
     },
     "execution_count": 25,
     "metadata": {},
     "output_type": "execute_result"
    }
   ],
   "source": [
    "correct = 0\n",
    "i = 0\n",
    "w = np.zeros(d)\n",
    "epochs = 0\n",
    "\n",
    "while correct != n :\n",
    "  # prediction\n",
    "  y_hat = 1 if w @ X[ : , i] >= 0 else -1\n",
    "  # mistake or not\n",
    "  if y[i] != y_hat :\n",
    "    w += X[ : , i] * y[i]\n",
    "    correct = 0\n",
    "  else :\n",
    "    correct += 1\n",
    "  i += 1\n",
    "  # cycle back\n",
    "  if i == n :\n",
    "    i = 0\n",
    "    epochs += 1\n",
    "\n",
    "print(f\"Converges in {epochs} epochs\")\n",
    "w /= np.linalg.norm(w)\n",
    "w"
   ]
  },
  {
   "cell_type": "markdown",
   "metadata": {
    "id": "-cyMraFsHou-"
   },
   "source": [
    "Let us now visualize the perceptron's weight vector and the corresponding decision boundary."
   ]
  },
  {
   "cell_type": "code",
   "execution_count": null,
   "metadata": {
    "colab": {
     "base_uri": "https://localhost:8080/"
    },
    "executionInfo": {
     "elapsed": 12,
     "status": "ok",
     "timestamp": 1759588450318,
     "user": {
      "displayName": "NITIN GUPTA",
      "userId": "05836721629322869438"
     },
     "user_tz": -330
    },
    "id": "gib3eIM4o7vt",
    "outputId": "fa4a75b3-a3fe-4b7b-c9f5-640a1b5cdb3d"
   },
   "outputs": [
    {
     "data": {
      "text/plain": [
       "array(['green', 'green', 'green', 'green', 'green', 'green', 'green',\n",
       "       'green', 'green', 'green', 'red', 'red', 'red', 'red', 'red',\n",
       "       'red', 'red', 'red', 'red', 'red'], dtype='<U5')"
      ]
     },
     "execution_count": 30,
     "metadata": {},
     "output_type": "execute_result"
    }
   ],
   "source": [
    "y_color = np.where(y == 1, 'green', 'red')\n",
    "y_color"
   ]
  },
  {
   "cell_type": "code",
   "execution_count": null,
   "metadata": {
    "colab": {
     "base_uri": "https://localhost:8080/",
     "height": 539
    },
    "executionInfo": {
     "elapsed": 308,
     "status": "ok",
     "timestamp": 1759588830861,
     "user": {
      "displayName": "NITIN GUPTA",
      "userId": "05836721629322869438"
     },
     "user_tz": -330
    },
    "id": "vCp3e2NHooug",
    "outputId": "7659b45e-70c4-4842-a545-9c4cd5206288"
   },
   "outputs": [
    {
     "data": {
      "text/plain": [
       "[<matplotlib.lines.Line2D at 0x7e4eb1c3a5a0>]"
      ]
     },
     "execution_count": 36,
     "metadata": {},
     "output_type": "execute_result"
    },
    {
     "data": {
      "image/png": "[encoded data removed]",
      "text/plain": [
       "<Figure size 600x600 with 1 Axes>"
      ]
     },
     "metadata": {},
     "output_type": "display_data"
    }
   ],
   "source": [
    "plt.scatter(X[0, : ], X[1, : ], c = y_color)\n",
    "plt.axis('equal')\n",
    "plt.axhline(color = 'black', linewidth = 0.5)\n",
    "plt.axvline(color = 'black', linewidth = 0.5)\n",
    "\n",
    "x_db = np.linspace(-4,4)\n",
    "y_db = - (w[0] / w[1]) * x_db\n",
    "\n",
    "plt.plot(x_db, y_db, color = 'black')"
   ]
  },
  {
   "cell_type": "markdown",
   "metadata": {
    "id": "xQ_JhDx0Hoxw"
   },
   "source": [
    "Let us now visualize the perceptron's weight vector and the corresponding decision boudnary"
   ]
  },
  {
   "cell_type": "code",
   "execution_count": null,
   "metadata": {
    "colab": {
     "base_uri": "https://localhost:8080/",
     "height": 539
    },
    "executionInfo": {
     "elapsed": 384,
     "status": "ok",
     "timestamp": 1759589076176,
     "user": {
      "displayName": "NITIN GUPTA",
      "userId": "05836721629322869438"
     },
     "user_tz": -330
    },
    "id": "62izfaOGqq0h",
    "outputId": "245bfeb2-3f48-48d7-fb17-f5e79aa3fddc"
   },
   "outputs": [
    {
     "data": {
      "text/plain": [
       "(np.float64(-4.4), np.float64(4.4), np.float64(-12.32), np.float64(12.32))"
      ]
     },
     "execution_count": 49,
     "metadata": {},
     "output_type": "execute_result"
    },
    {
     "data": {
      "image/png": "[encoded data removed]",
      "text/plain": [
       "<Figure size 600x600 with 1 Axes>"
      ]
     },
     "metadata": {},
     "output_type": "display_data"
    }
   ],
   "source": [
    "plt.scatter(X[0 , : ], X[1, : ], c = y_color)\n",
    "plt.axhline(color = 'black', linestyle = '--', linewidth = 0.5)\n",
    "plt.axvline(color = 'black', linestyle = '--', linewidth = 0.5)\n",
    "\n",
    "x_db = np.linspace(-4, 4)\n",
    "y_db = -w[0] / w[1] * x_db\n",
    "\n",
    "plt.plot(x_db, y_db, color = 'black')\n",
    "plt.arrow(\n",
    "    0, 0, w[0], w[1],\n",
    "    head_width = 0.3,\n",
    "    head_length = 0.3\n",
    ")\n",
    "\n",
    "plt.xlim(-6,6)\n",
    "plt.ylim(-6,6)\n",
    "plt.axis('equal')"
   ]
  },
  {
   "cell_type": "markdown",
   "metadata": {
    "id": "ZBn2YsLIHo1O"
   },
   "source": [
    "- Step 1 : Solving the dual problem, we will get alpha.\n",
    "- Step 2 : The points for which alpha_i > 0 are my support vectors\n",
    "- Step 3 : w_optimal = XYalpha\n",
    "- Step 4 : X : d * n\n",
    "- Step 5 : Y : n * n : a diagonal matrix\n",
    "- Step 6 : alpha : n * 1"
   ]
  },
  {
   "cell_type": "markdown",
   "metadata": {
    "id": "xebsvmYhHo6-"
   },
   "source": [
    "### Computing the Dual objective"
   ]
  },
  {
   "cell_type": "markdown",
   "metadata": {
    "id": "BkO4XhFYHo-g"
   },
   "source": [
    "We shall follow a step-by-step approach to computing the dual objective function."
   ]
  },
  {
   "cell_type": "markdown",
   "metadata": {
    "id": "UIJppY1lHpBo"
   },
   "source": [
    "#### **STEP 1**\n"
   ]
  },
  {
   "cell_type": "markdown",
   "metadata": {
    "id": "M2aoriuP224e"
   },
   "source": [
    "We compute the object **Y** that appears in the dual problem."
   ]
  },
  {
   "cell_type": "code",
   "execution_count": null,
   "metadata": {
    "colab": {
     "base_uri": "https://localhost:8080/"
    },
    "executionInfo": {
     "elapsed": 24,
     "status": "ok",
     "timestamp": 1759590680480,
     "user": {
      "displayName": "NITIN GUPTA",
      "userId": "05836721629322869438"
     },
     "user_tz": -330
    },
    "id": "9CiNaipAxwPL",
    "outputId": "4361dc93-9f91-4ca2-8f3e-74e9d37af9f0"
   },
   "outputs": [
    {
     "data": {
      "text/plain": [
       "array([ 1,  1,  1,  1,  1,  1,  1,  1,  1,  1, -1, -1, -1, -1, -1, -1, -1,\n",
       "       -1, -1, -1])"
      ]
     },
     "execution_count": 54,
     "metadata": {},
     "output_type": "execute_result"
    }
   ],
   "source": [
    "y"
   ]
  },
  {
   "cell_type": "code",
   "execution_count": null,
   "metadata": {
    "colab": {
     "base_uri": "https://localhost:8080/"
    },
    "executionInfo": {
     "elapsed": 9,
     "status": "ok",
     "timestamp": 1759590653778,
     "user": {
      "displayName": "NITIN GUPTA",
      "userId": "05836721629322869438"
     },
     "user_tz": -330
    },
    "id": "_uviJWgfxcoB",
    "outputId": "c1bf7096-ad02-45f2-9270-a87c32a2a126"
   },
   "outputs": [
    {
     "data": {
      "text/plain": [
       "(20, 20)"
      ]
     },
     "execution_count": 53,
     "metadata": {},
     "output_type": "execute_result"
    }
   ],
   "source": [
    "Y = np.diag(y)\n",
    "Y.shape"
   ]
  },
  {
   "cell_type": "markdown",
   "metadata": {
    "id": "wxr8Zp2Y2_gO"
   },
   "source": [
    "#### **STEP 2**"
   ]
  },
  {
   "cell_type": "markdown",
   "metadata": {
    "id": "iQou01hOHpEW"
   },
   "source": [
    "Let **α** be the dual variable. The dual objective is of the form :     \n",
    "\n",
    "$$\n",
    "f(\\boldsymbol{\\alpha}) = \\boldsymbol{\\alpha}^T \\mathbf{1} - \\cfrac{1}{2} \\cdot \\boldsymbol{\\alpha}^T \\mathbf{Q} \\boldsymbol{\\alpha}\n",
    "$$\n",
    "\n",
    "Next, we compute the matrix $\\mathbf{Q}$ for this problem.\n",
    "\n",
    "**Q = Yᵀ (XᵀX)Y**"
   ]
  },
  {
   "cell_type": "code",
   "execution_count": null,
   "metadata": {
    "colab": {
     "base_uri": "https://localhost:8080/"
    },
    "executionInfo": {
     "elapsed": 24,
     "status": "ok",
     "timestamp": 1759591114505,
     "user": {
      "displayName": "NITIN GUPTA",
      "userId": "05836721629322869438"
     },
     "user_tz": -330
    },
    "id": "LhJWQqXMyM1S",
    "outputId": "b6a0bd5f-7a98-46f6-80fd-6e5bf51f4e75"
   },
   "outputs": [
    {
     "data": {
      "text/plain": [
       "(20, 20)"
      ]
     },
     "execution_count": 57,
     "metadata": {},
     "output_type": "execute_result"
    }
   ],
   "source": [
    "Q = Y.T @ X.T @ X @ Y\n",
    "Q.shape"
   ]
  },
  {
   "cell_type": "markdown",
   "metadata": {
    "id": "VnSUb8rX3Ei-"
   },
   "source": [
    "#### **STEP 3**"
   ]
  },
  {
   "cell_type": "markdown",
   "metadata": {
    "id": "zCBWovIOHpHe"
   },
   "source": [
    " Since `scipy`'s optimization routines take the form of minimizing a function, we will recast 𝓕 as follows :     \n",
    "\n",
    "$$\n",
    "f(\\boldsymbol{\\alpha}) =  \\cfrac{1}{2} \\cdot \\boldsymbol{\\alpha}^T \\mathbf{Q} \\boldsymbol{\\alpha} - \\boldsymbol{\\alpha}^T \\mathbf{1}\n",
    "$$\n",
    "\n",
    "We now have to solve :      \n",
    "\n",
    "$$\n",
    "\\min \\limits_{\\boldsymbol{\\alpha} \\geq 0} \\quad f(\\boldsymbol{\\alpha})\n",
    "$$\n",
    "\n",
    "Note that $\\max$ changes to $\\min$ since we changed the sign of the objective function."
   ]
  },
  {
   "cell_type": "markdown",
   "metadata": {
    "id": "VwSQHaM9HpKg"
   },
   "source": [
    "### Optimize"
   ]
  },
  {
   "cell_type": "markdown",
   "metadata": {
    "id": "-MubN047HpN5"
   },
   "source": [
    "Finally, we have most of the ingredients to solve the dual problem :    \n",
    "\n",
    "$$\n",
    "\\min \\limits_{\\boldsymbol{\\alpha} \\geq 0} \\quad \\cfrac{1}{2} \\cdot \\boldsymbol{\\alpha}^T \\mathbf{Q} \\boldsymbol{\\alpha} - \\boldsymbol{\\alpha}^T \\mathbf{1}\n",
    "$$\n",
    "\n",
    "Find the optimal value, $\\boldsymbol{\\alpha^{*}}$."
   ]
  },
  {
   "cell_type": "code",
   "execution_count": null,
   "metadata": {
    "id": "lRhNTfpf1bg_"
   },
   "outputs": [],
   "source": [
    "def f(alpha) :\n",
    "  return 0.5 * alpha.T @ Q @ alpha - np.sum(alpha)"
   ]
  },
  {
   "cell_type": "code",
   "execution_count": null,
   "metadata": {
    "colab": {
     "base_uri": "https://localhost:8080/"
    },
    "executionInfo": {
     "elapsed": 41,
     "status": "ok",
     "timestamp": 1759591672939,
     "user": {
      "displayName": "NITIN GUPTA",
      "userId": "05836721629322869438"
     },
     "user_tz": -330
    },
    "id": "37ogEmIr0wzK",
    "outputId": "1228a3e7-098e-4933-8f00-b7dd7b69b94f"
   },
   "outputs": [
    {
     "data": {
      "text/plain": [
       "  message: CONVERGENCE: RELATIVE REDUCTION OF F <= FACTR*EPSMCH\n",
       "  success: True\n",
       "   status: 0\n",
       "      fun: -4.9999999995860795\n",
       "        x: [ 0.000e+00  0.000e+00 ...  1.714e+00  1.629e+00]\n",
       "      nit: 30\n",
       "      jac: [ 5.000e+00  2.000e+00 ...  2.964e-04 -2.446e-04]\n",
       "     nfev: 735\n",
       "     njev: 35\n",
       " hess_inv: <20x20 LbfgsInvHessProduct with dtype=float64>"
      ]
     },
     "execution_count": 61,
     "metadata": {},
     "output_type": "execute_result"
    }
   ],
   "source": [
    "from scipy import optimize\n",
    "\n",
    "alpha_init = np.zeros(n)\n",
    "res = optimize.minimize(\n",
    "    f,\n",
    "    alpha_init,\n",
    "    bounds = optimize.Bounds(0, np.inf))\n",
    "res"
   ]
  },
  {
   "cell_type": "code",
   "execution_count": null,
   "metadata": {
    "colab": {
     "base_uri": "https://localhost:8080/"
    },
    "executionInfo": {
     "elapsed": 17,
     "status": "ok",
     "timestamp": 1759591693046,
     "user": {
      "displayName": "NITIN GUPTA",
      "userId": "05836721629322869438"
     },
     "user_tz": -330
    },
    "id": "Dffe8AV61l1p",
    "outputId": "cab2e65f-f39d-4d21-c8d2-897d0918bac6"
   },
   "outputs": [
    {
     "data": {
      "text/plain": [
       "(20,)"
      ]
     },
     "execution_count": 62,
     "metadata": {},
     "output_type": "execute_result"
    }
   ],
   "source": [
    "res.x.shape"
   ]
  },
  {
   "cell_type": "code",
   "execution_count": null,
   "metadata": {
    "colab": {
     "base_uri": "https://localhost:8080/"
    },
    "executionInfo": {
     "elapsed": 19,
     "status": "ok",
     "timestamp": 1759591728693,
     "user": {
      "displayName": "NITIN GUPTA",
      "userId": "05836721629322869438"
     },
     "user_tz": -330
    },
    "id": "P8otL_mH1pOh",
    "outputId": "8a2c1789-2023-472c-c1c2-e5782af50862"
   },
   "outputs": [
    {
     "data": {
      "text/plain": [
       "array([0.        , 0.        , 0.        , 0.        , 0.        ,\n",
       "       0.        , 1.64285458, 1.65714081, 1.6714273 , 1.68571323,\n",
       "       0.        , 0.        , 0.        , 0.        , 0.        ,\n",
       "       0.        , 0.        , 0.        , 1.71428397, 1.62856746])"
      ]
     },
     "execution_count": 68,
     "metadata": {},
     "output_type": "execute_result"
    }
   ],
   "source": [
    "alpha_star = res.x\n",
    "alpha_star"
   ]
  },
  {
   "cell_type": "markdown",
   "metadata": {
    "id": "uZKkjbPEHpRA"
   },
   "source": [
    "### Support Vectors"
   ]
  },
  {
   "cell_type": "markdown",
   "metadata": {
    "id": "DPOOxabtHpUI"
   },
   "source": [
    "Let us find all the support vectors. Recall that support vectors are those ponts for whcih $\\alpha_i^{*} > 0$."
   ]
  },
  {
   "cell_type": "code",
   "execution_count": null,
   "metadata": {
    "colab": {
     "base_uri": "https://localhost:8080/"
    },
    "executionInfo": {
     "elapsed": 21,
     "status": "ok",
     "timestamp": 1759591947650,
     "user": {
      "displayName": "NITIN GUPTA",
      "userId": "05836721629322869438"
     },
     "user_tz": -330
    },
    "id": "r8ZvQs9K2Ks3",
    "outputId": "43c8a5e4-49e6-4885-9525-04da4123f95e"
   },
   "outputs": [
    {
     "name": "stdout",
     "output_type": "stream",
     "text": [
      "6\n"
     ]
    }
   ],
   "source": [
    "X_sup = X[ : , alpha_star > 0]\n",
    "y_sup = y[alpha_star > 0]\n",
    "y_sup_color = np.where(y_sup == 1, 'green', 'red')\n",
    "print(y_sup.shape[0])"
   ]
  },
  {
   "cell_type": "markdown",
   "metadata": {
    "id": "wjzQ7JwrHpXG"
   },
   "source": [
    "We see that there are 6 support vectors."
   ]
  },
  {
   "cell_type": "markdown",
   "metadata": {
    "id": "yae6QlWuHpaf"
   },
   "source": []
  },
  {
   "cell_type": "markdown",
   "metadata": {
    "id": "bmm1KrzVHpdx"
   },
   "source": [
    "### Optimal weight vector (Primal solution)"
   ]
  },
  {
   "cell_type": "markdown",
   "metadata": {
    "id": "5OE2h1adHpg4"
   },
   "source": [
    "Let us now find the optimal weight vector $\\mathbf{w}^*$."
   ]
  },
  {
   "cell_type": "code",
   "execution_count": null,
   "metadata": {
    "colab": {
     "base_uri": "https://localhost:8080/"
    },
    "executionInfo": {
     "elapsed": 30,
     "status": "ok",
     "timestamp": 1759592221543,
     "user": {
      "displayName": "NITIN GUPTA",
      "userId": "05836721629322869438"
     },
     "user_tz": -330
    },
    "id": "tHkahA3S3lg1",
    "outputId": "1409149f-a5b9-4b25-c6e2-c0dcfcd3e1a9"
   },
   "outputs": [
    {
     "data": {
      "text/plain": [
       "array([ 2.9999872 , -1.00002577])"
      ]
     },
     "execution_count": 74,
     "metadata": {},
     "output_type": "execute_result"
    }
   ],
   "source": [
    "w_star = X @ Y @ alpha_star\n",
    "w_star"
   ]
  },
  {
   "cell_type": "markdown",
   "metadata": {
    "id": "k6agTZxnHpkG"
   },
   "source": [
    "This is pretty close to **(3, -1)**"
   ]
  },
  {
   "cell_type": "markdown",
   "metadata": {
    "id": "JXdfXQOgHpnJ"
   },
   "source": [
    "### Decision Boundary"
   ]
  },
  {
   "cell_type": "markdown",
   "metadata": {
    "id": "T4KjnhzA3v1v"
   },
   "source": [
    "Now we plot the decision boundary along with the supporting hyperplanes. Note where the support vectors lie in this plot"
   ]
  },
  {
   "cell_type": "code",
   "execution_count": null,
   "metadata": {
    "colab": {
     "base_uri": "https://localhost:8080/",
     "height": 528
    },
    "executionInfo": {
     "elapsed": 632,
     "status": "ok",
     "timestamp": 1759592664553,
     "user": {
      "displayName": "NITIN GUPTA",
      "userId": "05836721629322869438"
     },
     "user_tz": -330
    },
    "id": "HQf9ut7N34kY",
    "outputId": "f97f3d12-9770-4559-e3a2-c09fc3553f5a"
   },
   "outputs": [
    {
     "data": {
      "image/png": "[encoded data removed]",
      "text/plain": [
       "<Figure size 600x600 with 1 Axes>"
      ]
     },
     "metadata": {},
     "output_type": "display_data"
    }
   ],
   "source": [
    "def plot_db(w) :\n",
    "  plt.scatter(X[0 , : ], X[1, : ], c = y_color, alpha = 0.3)\n",
    "\n",
    "  plt.scatter(X_sup[0, : ], X_sup[1, : ], c = y_sup_color)\n",
    "\n",
    "  plt.axhline(color = 'black', linestyle = '--', linewidth = 0.5)\n",
    "  plt.axvline(color = 'black', linestyle = '--', linewidth = 0.5)\n",
    "\n",
    "  x_db = np.linspace(-4, 4)\n",
    "  y_db = -w[0] / w[1] * x_db\n",
    "  # decision boundary\n",
    "  plt.plot(x_db, y_db, color = 'black')\n",
    "\n",
    "  # supporting hyperplanes\n",
    "  y_sup_1 = 1/w[1] - w[0] / w[1] * x_db\n",
    "  y_sup_2 = -1 / w[1] - w[0] / w[1] * x_db\n",
    "  plt.plot(x_db, y_sup_1, color = 'gray', linestyle = '--')\n",
    "  plt.plot(x_db, y_sup_2, color = 'gray', linestyle = '--')\n",
    "\n",
    "  plt.arrow(0, 0, w[0], w[1], head_width = 0.3, head_length = 0.3)\n",
    "  plt.xlim(-10, 10)\n",
    "  plt.ylim(-10, 10)\n",
    "\n",
    "\n",
    "plot_db(w_star)"
   ]
  },
  {
   "cell_type": "markdown",
   "metadata": {
    "id": "TR5oVw-45Y8t"
   },
   "source": [
    "Note that the support vector appear darker than the rest of the points."
   ]
  }
 ],
 "metadata": {
  "colab": {
   "authorship_tag": "ABX9TyNjdn/rZnNgpnGGPk0vvVNp",
   "provenance": []
  },
  "kernelspec": {
   "display_name": "Python 3",
   "name": "python3"
  },
  "language_info": {
   "name": "python"
  }
 },
 "nbformat": 4,
 "nbformat_minor": 0
}
